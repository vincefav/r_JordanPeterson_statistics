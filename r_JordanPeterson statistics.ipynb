{
 "cells": [
  {
   "cell_type": "code",
   "execution_count": null,
   "metadata": {
    "collapsed": false
   },
   "outputs": [],
   "source": [
    "import pandas as pd\n",
    "import numpy as np\n",
    "import matplotlib.pyplot as plt\n",
    "import seaborn as sns\n",
    "\n",
    "sns.set_style('dark')\n",
    "%pylab inline"
   ]
  },
  {
   "cell_type": "code",
   "execution_count": null,
   "metadata": {
    "collapsed": false
   },
   "outputs": [],
   "source": [
    "data = pd.read_csv('r_JordanPeterson_General_Survey.csv')"
   ]
  },
  {
   "cell_type": "code",
   "execution_count": null,
   "metadata": {
    "collapsed": false
   },
   "outputs": [],
   "source": [
    "data = pd.read_csv('r_JordanPeterson_General_Survey.csv')\n",
    "\n",
    "\n",
    "# Clean and numerically code data\n",
    "del data['Timestamp']\n",
    "del data['How Can the Mods Help Make the Subreddit better?']\n",
    "del data['How Can This Survey Be Improved in the Future?']\n",
    "del data['Moderation on /r/JordanPeterson Is...']\n",
    "del data[' What Is Your Career/Job?']\n",
    "\n",
    "data.rename(index=str, columns={\n",
    "    \"How Do You Score in Openness\": \"Openness\",\n",
    "    'How Do You Score in Conscientiousness ': 'Conscientiousness',\n",
    "    'How Do You Score in Extraversion': 'Extraversion',\n",
    "    'How Do You Score in Agreeableness ': 'Agreeableness',\n",
    "    'How Do You Score in Neuroticism': 'Neuroticism',\n",
    "    'How Often Do You Clean Your Room?': 'Clean_room',\n",
    "    'What is Your Yearly Income (USD)': 'Income'}, inplace=True)\n",
    "\n",
    "for i in data.select_dtypes(exclude=[np.number]).columns:\n",
    "    vc = data[i].value_counts()\n",
    "    common_responses = vc[vc > 1].index\n",
    "    data[i] = np.where(data[i].isin(common_responses), data[i], i + '_Other')\n",
    "\n",
    "# I'm replacing high school students with the average education level\n",
    "# because we don't know what they'll do in the future\n",
    "edu = {\n",
    "    \"Bachelor's Degree\": 4,\n",
    "    'Current Undergraduate Student': 4,\n",
    "    'Some College': 2,\n",
    "    \"Master's Degree\": 6,\n",
    "    'Current High School/Secondary Student': np.nan,\n",
    "    'High School/Secondary School Graduate': 0,\n",
    "    'PhD/Terminal Degree/JD': 8,\n",
    "    'High School/Secondary School Dropout': -1,\n",
    "    \"Associate's Degree\": 2\n",
    "}\n",
    "\n",
    "data['Education'] = data['Education'].map(edu)\n",
    "data['Education'].fillna(data['Education'].median(), inplace=True)\n",
    "\n",
    "# Estimations of how often people clean\n",
    "# I had to take out bi-weekly because it could mean twice a week or twice a month\n",
    "cleaning = {\n",
    "    'Weekly': 7,\n",
    "    'Monthly': 30,\n",
    "    'Every. Single. Day': 1,\n",
    "    'There is a clear path from the bed to the door': 90,\n",
    "    \"Can't get in anymore, completely full of dead wood\": 180,\n",
    "}\n",
    "\n",
    "data['Clean_room'] = data['Clean_room'].map(cleaning)\n",
    "\n",
    "iq = {\n",
    "    '121-130': 125,\n",
    "    '131-140': 135,\n",
    "    '111-120': 115,\n",
    "    '141 and Above': 145,\n",
    "    '101-110': 105,\n",
    "    '91-100': 95,\n",
    "    '80 and Below': 75,\n",
    "    '81-90': 85\n",
    "}\n",
    "\n",
    "data['IQ'] = data['What is Your Approximate IQ (If you Know)'].astype(str).map(iq)\n",
    "data['IQ'].fillna(data['IQ'].median(), inplace=True)\n",
    "del data['What is Your Approximate IQ (If you Know)']\n",
    "\n",
    "\n",
    "inc = {\n",
    "    '30,000 and Below': 10,\n",
    "    '30,001-50,000': 40,\n",
    "    '90,001 and Above': 100,\n",
    "    '50,001-70,000': 60,\n",
    "    '70,001-90,000': 80,\n",
    "}\n",
    "\n",
    "data['Income'] = data['Income'].astype(str).map(inc)\n",
    "data['Income'].fillna(data['Income'].median(), inplace=True)"
   ]
  },
  {
   "cell_type": "markdown",
   "metadata": {},
   "source": [
    "# Correlation matrix"
   ]
  },
  {
   "cell_type": "code",
   "execution_count": null,
   "metadata": {
    "collapsed": false
   },
   "outputs": [],
   "source": [
    "personality = data[[\n",
    "    'Extraversion',\n",
    "    'Openness',\n",
    "    'Agreeableness',\n",
    "    'Conscientiousness',\n",
    "    'Neuroticism',\n",
    "    'IQ',\n",
    "    'Income',\n",
    "    'Education',\n",
    "    'Clean_room'\n",
    "]]\n",
    "\n",
    "mask = np.zeros_like(personality.corr(), dtype=np.bool)\n",
    "mask[np.triu_indices_from(mask)] = True\n",
    "\n",
    "plt.figure(figsize=(15,7))\n",
    "plt.title('Correlation matrix')\n",
    "sns.heatmap(personality.corr(), annot=True, fmt='.2f', center=0, mask=mask, cmap='seismic_r')"
   ]
  },
  {
   "cell_type": "code",
   "execution_count": null,
   "metadata": {
    "collapsed": false
   },
   "outputs": [],
   "source": [
    "for i in data.select_dtypes(exclude=[np.number]).columns:\n",
    "    data[i] = data[i].replace(np.nan, i +' blank')\n",
    "\n",
    "for i in data.select_dtypes(exclude=[np.number]).columns:\n",
    "    new = pd.get_dummies(data[i], prefix=i)\n",
    "    data = pd.concat([data,new], axis=1)\n",
    "    \n",
    "data = data.fillna(data.median())"
   ]
  },
  {
   "cell_type": "code",
   "execution_count": null,
   "metadata": {
    "collapsed": false
   },
   "outputs": [],
   "source": [
    "data['IQ'].hist(edgecolor='black', bins=7)"
   ]
  },
  {
   "cell_type": "code",
   "execution_count": null,
   "metadata": {
    "collapsed": false
   },
   "outputs": [],
   "source": [
    "data['Education'].hist(edgecolor='black', bins=5)"
   ]
  },
  {
   "cell_type": "code",
   "execution_count": null,
   "metadata": {
    "collapsed": false
   },
   "outputs": [],
   "source": [
    "data['Extraversion'].hist(edgecolor='black', bins=5)"
   ]
  },
  {
   "cell_type": "code",
   "execution_count": null,
   "metadata": {
    "collapsed": false
   },
   "outputs": [],
   "source": [
    "data['Openness'].hist(edgecolor='black', bins=5)"
   ]
  },
  {
   "cell_type": "code",
   "execution_count": null,
   "metadata": {
    "collapsed": false
   },
   "outputs": [],
   "source": [
    "data['Agreeableness'].hist(edgecolor='black', bins=5)"
   ]
  },
  {
   "cell_type": "code",
   "execution_count": null,
   "metadata": {
    "collapsed": false
   },
   "outputs": [],
   "source": [
    "data['Conscientiousness'].hist(edgecolor='black', bins=5)"
   ]
  },
  {
   "cell_type": "code",
   "execution_count": null,
   "metadata": {
    "collapsed": false
   },
   "outputs": [],
   "source": [
    "data['Neuroticism'].hist(edgecolor='black', bins=5)"
   ]
  },
  {
   "cell_type": "code",
   "execution_count": null,
   "metadata": {
    "collapsed": true
   },
   "outputs": [],
   "source": [
    "data['Wh']"
   ]
  }
 ],
 "metadata": {
  "kernelspec": {
   "display_name": "Python 3",
   "language": "python",
   "name": "python3"
  },
  "language_info": {
   "codemirror_mode": {
    "name": "ipython",
    "version": 3
   },
   "file_extension": ".py",
   "mimetype": "text/x-python",
   "name": "python",
   "nbconvert_exporter": "python",
   "pygments_lexer": "ipython3",
   "version": "3.6.0"
  }
 },
 "nbformat": 4,
 "nbformat_minor": 2
}
